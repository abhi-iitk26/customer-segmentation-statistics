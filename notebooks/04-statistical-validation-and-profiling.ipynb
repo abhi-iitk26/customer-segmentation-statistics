{
 "cells": [
  {
   "cell_type": "markdown",
   "id": "92f9173f",
   "metadata": {},
   "source": []
  },
  {
   "cell_type": "code",
   "execution_count": 10,
   "id": "16c84f70",
   "metadata": {},
   "outputs": [
    {
     "name": "stdout",
     "output_type": "stream",
     "text": [
      "Libraries imported successfully.\n",
      "Clustered data loaded successfully.\n",
      "Shape of the dataframe: (93357, 8)\n"
     ]
    },
    {
     "data": {
      "text/html": [
       "<div>\n",
       "<style scoped>\n",
       "    .dataframe tbody tr th:only-of-type {\n",
       "        vertical-align: middle;\n",
       "    }\n",
       "\n",
       "    .dataframe tbody tr th {\n",
       "        vertical-align: top;\n",
       "    }\n",
       "\n",
       "    .dataframe thead th {\n",
       "        text-align: right;\n",
       "    }\n",
       "</style>\n",
       "<table border=\"1\" class=\"dataframe\">\n",
       "  <thead>\n",
       "    <tr style=\"text-align: right;\">\n",
       "      <th></th>\n",
       "      <th>Unnamed: 0</th>\n",
       "      <th>recency</th>\n",
       "      <th>frequency</th>\n",
       "      <th>monetary</th>\n",
       "      <th>avg_order_value</th>\n",
       "      <th>product_diversity</th>\n",
       "      <th>tenure</th>\n",
       "      <th>cluster</th>\n",
       "    </tr>\n",
       "    <tr>\n",
       "      <th>customer_unique_id</th>\n",
       "      <th></th>\n",
       "      <th></th>\n",
       "      <th></th>\n",
       "      <th></th>\n",
       "      <th></th>\n",
       "      <th></th>\n",
       "      <th></th>\n",
       "      <th></th>\n",
       "    </tr>\n",
       "  </thead>\n",
       "  <tbody>\n",
       "    <tr>\n",
       "      <th>0000366f3b9a7992bf8c76cfdf3221e2</th>\n",
       "      <td>0</td>\n",
       "      <td>112</td>\n",
       "      <td>1</td>\n",
       "      <td>141.90</td>\n",
       "      <td>141.90</td>\n",
       "      <td>1</td>\n",
       "      <td>0</td>\n",
       "      <td>1</td>\n",
       "    </tr>\n",
       "    <tr>\n",
       "      <th>0000b849f77a49e4a4ce2b2a4ca5be3f</th>\n",
       "      <td>1</td>\n",
       "      <td>115</td>\n",
       "      <td>1</td>\n",
       "      <td>27.19</td>\n",
       "      <td>27.19</td>\n",
       "      <td>1</td>\n",
       "      <td>0</td>\n",
       "      <td>1</td>\n",
       "    </tr>\n",
       "    <tr>\n",
       "      <th>0000f46a3911fa3c0805444483337064</th>\n",
       "      <td>2</td>\n",
       "      <td>537</td>\n",
       "      <td>1</td>\n",
       "      <td>86.22</td>\n",
       "      <td>86.22</td>\n",
       "      <td>1</td>\n",
       "      <td>0</td>\n",
       "      <td>0</td>\n",
       "    </tr>\n",
       "    <tr>\n",
       "      <th>0000f6ccb0745a6a4b88665a16c9f078</th>\n",
       "      <td>3</td>\n",
       "      <td>321</td>\n",
       "      <td>1</td>\n",
       "      <td>43.62</td>\n",
       "      <td>43.62</td>\n",
       "      <td>1</td>\n",
       "      <td>0</td>\n",
       "      <td>0</td>\n",
       "    </tr>\n",
       "    <tr>\n",
       "      <th>0004aac84e0df4da2b147fca70cf8255</th>\n",
       "      <td>4</td>\n",
       "      <td>288</td>\n",
       "      <td>1</td>\n",
       "      <td>196.89</td>\n",
       "      <td>196.89</td>\n",
       "      <td>1</td>\n",
       "      <td>0</td>\n",
       "      <td>0</td>\n",
       "    </tr>\n",
       "  </tbody>\n",
       "</table>\n",
       "</div>"
      ],
      "text/plain": [
       "                                  Unnamed: 0  recency  frequency  monetary  \\\n",
       "customer_unique_id                                                           \n",
       "0000366f3b9a7992bf8c76cfdf3221e2           0      112          1    141.90   \n",
       "0000b849f77a49e4a4ce2b2a4ca5be3f           1      115          1     27.19   \n",
       "0000f46a3911fa3c0805444483337064           2      537          1     86.22   \n",
       "0000f6ccb0745a6a4b88665a16c9f078           3      321          1     43.62   \n",
       "0004aac84e0df4da2b147fca70cf8255           4      288          1    196.89   \n",
       "\n",
       "                                  avg_order_value  product_diversity  tenure  \\\n",
       "customer_unique_id                                                             \n",
       "0000366f3b9a7992bf8c76cfdf3221e2           141.90                  1       0   \n",
       "0000b849f77a49e4a4ce2b2a4ca5be3f            27.19                  1       0   \n",
       "0000f46a3911fa3c0805444483337064            86.22                  1       0   \n",
       "0000f6ccb0745a6a4b88665a16c9f078            43.62                  1       0   \n",
       "0004aac84e0df4da2b147fca70cf8255           196.89                  1       0   \n",
       "\n",
       "                                  cluster  \n",
       "customer_unique_id                         \n",
       "0000366f3b9a7992bf8c76cfdf3221e2        1  \n",
       "0000b849f77a49e4a4ce2b2a4ca5be3f        1  \n",
       "0000f46a3911fa3c0805444483337064        0  \n",
       "0000f6ccb0745a6a4b88665a16c9f078        0  \n",
       "0004aac84e0df4da2b147fca70cf8255        0  "
      ]
     },
     "execution_count": 10,
     "metadata": {},
     "output_type": "execute_result"
    }
   ],
   "source": [
    "# =============================================================================\n",
    "# Step 1: Import Libraries and Load Data\n",
    "# =============================================================================\n",
    "import pandas as pd\n",
    "import numpy as np\n",
    "import matplotlib.pyplot as plt\n",
    "import seaborn as sns\n",
    "from scipy import stats  # We need this for the F-distribution in our custom test\n",
    "\n",
    "from statsmodels.multivariate.manova import MANOVA\n",
    "from sklearn.preprocessing import MinMaxScaler\n",
    "from scipy.stats import levene\n",
    "\n",
    "print(\"Libraries imported successfully.\")\n",
    "\n",
    "# Load the clustered customer features dataset we created in the previous notebook\n",
    "try:\n",
    "    customer_df = pd.read_csv('../data/customer_features_clustered.csv')\n",
    "    customer_df.set_index('customer_unique_id', inplace=True)\n",
    "    print(\"Clustered data loaded successfully.\")\n",
    "    print(f\"Shape of the dataframe: {customer_df.shape}\")\n",
    "except FileNotFoundError:\n",
    "    print(\"ERROR: The file '../data/customer_features_clustered.csv' was not found.\")\n",
    "    print(\"Please make sure you have run the '03-customer-segmentation.ipynb' notebook first.\")\n",
    "\n",
    "# Display the data to make sure it's loaded correctly\n",
    "customer_df.head()"
   ]
  },
  {
   "cell_type": "markdown",
   "id": "ae0c509d",
   "metadata": {},
   "source": [
    "#Step 2: Define Variables for Analysis"
   ]
  },
  {
   "cell_type": "code",
   "execution_count": 11,
   "id": "01c33559",
   "metadata": {},
   "outputs": [
    {
     "name": "stdout",
     "output_type": "stream",
     "text": [
      "\n",
      "Variables for analysis defined:\n",
      "Dependent Vars: ['recency', 'frequency', 'monetary', 'avg_order_value', 'product_diversity', 'tenure']\n",
      "Independent Var: cluster\n"
     ]
    }
   ],
   "source": [
    "# These are the behavioral features we used for clustering\n",
    "dependent_vars = ['recency', 'frequency', 'monetary', 'avg_order_value', 'product_diversity', 'tenure']\n",
    "\n",
    "# This is the segment label assigned by K-Means\n",
    "independent_var = 'cluster'\n",
    "\n",
    "print(\"\\nVariables for analysis defined:\")\n",
    "print(\"Dependent Vars:\", dependent_vars)\n",
    "print(\"Independent Var:\", independent_var)"
   ]
  },
  {
   "cell_type": "markdown",
   "id": "44b23a31",
   "metadata": {},
   "source": [
    "Step 5: Implement and Use Custom Hotelling’s T² Test"
   ]
  },
  {
   "cell_type": "code",
   "execution_count": 14,
   "id": "a0153e93",
   "metadata": {},
   "outputs": [
    {
     "name": "stdout",
     "output_type": "stream",
     "text": [
      "\n",
      "--- Performing Hotelling's T² Test (Example) ---\n",
      "Comparing Cluster 0 vs Cluster 1:\n",
      "  T-squared statistic: 210513.67\n",
      "  p-value: 1.11e-16\n",
      "  -> Result: The two clusters are statistically different.\n",
      "\n",
      "--- Profiling Segments ---\n",
      "\n",
      "Segment Profiles (Means):\n",
      "            recency  frequency     monetary  avg_order_value  \\\n",
      "cluster                                                        \n",
      "0        387.890578   1.012953   160.882868       135.877773   \n",
      "1        128.780287   1.010206   160.861984       135.937405   \n",
      "2        142.616231   2.287483   446.849849       146.970820   \n",
      "3        237.816086   1.019617  2140.859220      1217.786760   \n",
      "4        232.640496   1.668831   463.490218       181.255446   \n",
      "\n",
      "         product_diversity      tenure  \n",
      "cluster                                 \n",
      "0                 1.000000    0.225995  \n",
      "1                 1.000000    0.249922  \n",
      "2                 1.942228  254.053645  \n",
      "3                 1.008828    0.560078  \n",
      "4                 2.020071   22.877804  \n"
     ]
    }
   ],
   "source": [
    "def hotelling_t2_test(group1, group2):\n",
    "    \"\"\"\n",
    "    Implements the two-sample Hotelling's T-squared test.\n",
    "    \"\"\"\n",
    "    n1, p = group1.shape\n",
    "    n2, _ = group2.shape\n",
    "    \n",
    "    mean1 = np.mean(group1, axis=0)\n",
    "    mean2 = np.mean(group2, axis=0)\n",
    "    \n",
    "    cov1 = np.cov(group1, rowvar=False)\n",
    "    cov2 = np.cov(group2, rowvar=False)\n",
    "    \n",
    "    # Pooled covariance matrix\n",
    "    S_pooled = ((n1 - 1) * cov1 + (n2 - 1) * cov2) / (n1 + n2 - 2)\n",
    "    \n",
    "    # Handle potential singularity by using pseudo-inverse\n",
    "    try:\n",
    "        S_inv = np.linalg.inv(S_pooled)\n",
    "    except np.linalg.LinAlgError:\n",
    "        S_inv = np.linalg.pinv(S_pooled)\n",
    "        \n",
    "    mean_diff = mean1 - mean2\n",
    "    \n",
    "    # T-squared statistic\n",
    "    t_squared = (n1 * n2) / (n1 + n2) * mean_diff.T @ S_inv @ mean_diff\n",
    "    \n",
    "    # F-statistic and p-value\n",
    "    f_stat = (n1 + n2 - p - 1) / ((n1 + n2 - 2) * p) * t_squared\n",
    "    df1 = p\n",
    "    df2 = n1 + n2 - p - 1\n",
    "    p_value = 1 - stats.f.cdf(f_stat, df1, df2)\n",
    "    \n",
    "    return t_squared, p_value\n",
    "\n",
    "# --- Example Usage of Hotelling's T² Test ---\n",
    "# We'll compare cluster 0 and 1 as an example. \n",
    "# You should choose clusters that look interesting after profiling.\n",
    "print(\"\\n--- Performing Hotelling's T² Test (Example) ---\")\n",
    "group_0_data = customer_df[customer_df['cluster'] == 0][dependent_vars]\n",
    "group_1_data = customer_df[customer_df['cluster'] == 1][dependent_vars]\n",
    "\n",
    "t2_stat, p_val = hotelling_t2_test(group_0_data, group_1_data)\n",
    "print(f\"Comparing Cluster 0 vs Cluster 1:\")\n",
    "print(f\"  T-squared statistic: {t2_stat:.2f}\")\n",
    "print(f\"  p-value: {p_val:.3g}\")\n",
    "if p_val < 0.05:\n",
    "    print(\"  -> Result: The two clusters are statistically different.\")\n",
    "\n",
    "\n",
    "# =============================================================================\n",
    "# Step 6: Profile and Name the Segments\n",
    "# =============================================================================\n",
    "print(\"\\n--- Profiling Segments ---\")\n",
    "\n",
    "# Group by cluster and calculate the mean for each feature\n",
    "segment_profiles = customer_df.groupby('cluster')[dependent_vars].mean()\n",
    "print(\"\\nSegment Profiles (Means):\")\n",
    "print(segment_profiles)"
   ]
  },
  {
   "cell_type": "markdown",
   "id": "dc38c113",
   "metadata": {},
   "source": [
    "--- Visualize the Profiles ---\n",
    "\n",
    "Scale the profiles for a more readable visualization"
   ]
  },
  {
   "cell_type": "code",
   "execution_count": 19,
   "id": "f3786c87",
   "metadata": {},
   "outputs": [
    {
     "data": {
      "image/png": "[encoded data removed]",
      "text/plain": [
       "<Figure size 1600x700 with 1 Axes>"
      ]
     },
     "metadata": {},
     "output_type": "display_data"
    }
   ],
   "source": [
    "scaler = MinMaxScaler()\n",
    "profiles_scaled = scaler.fit_transform(segment_profiles)\n",
    "profiles_scaled_df = pd.DataFrame(profiles_scaled, columns=dependent_vars, index=segment_profiles.index)\n",
    "\n",
    "# Plotting with bar charts\n",
    "profiles_scaled_df.plot(kind='bar', figsize=(16, 7), width=0.8)\n",
    "plt.title('Normalized Profiles of Customer Segments', fontsize=16)\n",
    "plt.ylabel('Normalized Value (0 to 1)', fontsize=12)\n",
    "plt.xlabel('Cluster', fontsize=12)\n",
    "plt.xticks(rotation=0)\n",
    "plt.legend(title='Features', bbox_to_anchor=(1.02, 1), loc='upper left')\n",
    "plt.tight_layout()\n",
    "plt.show()\n",
    "\n",
    "\n",
    "# --- Name the Segments (Example) ---\n",
    "# You MUST analyze the profile table and chart above to create these names.\n",
    "# The names below are placeholders. You need to replace them with your own.\n",
    "# In your code, replace the placeholder dictionary with this one:\n",
    "segment_name_map = {\n",
    "    0: \"At-Risk Customers\",\n",
    "    1: \"New / One-Time Buyers\",\n",
    "    2: \"VIP Champions\",\n",
    "    3: \"Big-Ticket Spenders\",\n",
    "    4: \"Loyal Regulars\"\n",
    "}\n"
   ]
  },
  {
   "cell_type": "markdown",
   "id": "86a431bb",
   "metadata": {},
   "source": [
    " After analyzing your profiles, update the dictionary above with meaningful names.\n"
   ]
  },
  {
   "cell_type": "code",
   "execution_count": 20,
   "id": "03e4792c",
   "metadata": {},
   "outputs": [
    {
     "name": "stdout",
     "output_type": "stream",
     "text": [
      "\n",
      "Final DataFrame with Segment Names:\n",
      "                                  recency  frequency  monetary  cluster  \\\n",
      "customer_unique_id                                                        \n",
      "0000366f3b9a7992bf8c76cfdf3221e2      112          1    141.90        1   \n",
      "0000b849f77a49e4a4ce2b2a4ca5be3f      115          1     27.19        1   \n",
      "0000f46a3911fa3c0805444483337064      537          1     86.22        0   \n",
      "0000f6ccb0745a6a4b88665a16c9f078      321          1     43.62        0   \n",
      "0004aac84e0df4da2b147fca70cf8255      288          1    196.89        0   \n",
      "\n",
      "                                           segment_name  \n",
      "customer_unique_id                                       \n",
      "0000366f3b9a7992bf8c76cfdf3221e2  New / One-Time Buyers  \n",
      "0000b849f77a49e4a4ce2b2a4ca5be3f  New / One-Time Buyers  \n",
      "0000f46a3911fa3c0805444483337064      At-Risk Customers  \n",
      "0000f6ccb0745a6a4b88665a16c9f078      At-Risk Customers  \n",
      "0004aac84e0df4da2b147fca70cf8255      At-Risk Customers  \n"
     ]
    }
   ],
   "source": [
    "# Now, map these accurate names\n",
    "customer_df['segment_name'] = customer_df['cluster'].map(segment_name_map)\n",
    "\n",
    "print(\"\\nFinal DataFrame with Segment Names:\")\n",
    "print(customer_df[['recency', 'frequency', 'monetary', 'cluster', 'segment_name']].head())"
   ]
  },
  {
   "cell_type": "code",
   "execution_count": 23,
   "id": "b20c0708",
   "metadata": {},
   "outputs": [
    {
     "name": "stdout",
     "output_type": "stream",
     "text": [
      "\n",
      "Data with segment names saved to '../data/customer_features_clustered_named.csv'\n"
     ]
    }
   ],
   "source": [
    "# Save the final dataframe with segment names\n",
    "customer_df.to_csv('../data/customer_features_clustered_named.csv')\n",
    "print(\"\\nData with segment names saved to '../data/customer_features_clustered_named.csv'\")"
   ]
  }
 ],
 "metadata": {
  "kernelspec": {
   "display_name": "venv",
   "language": "python",
   "name": "python3"
  },
  "language_info": {
   "codemirror_mode": {
    "name": "ipython",
    "version": 3
   },
   "file_extension": ".py",
   "mimetype": "text/x-python",
   "name": "python",
   "nbconvert_exporter": "python",
   "pygments_lexer": "ipython3",
   "version": "3.10.11"
  }
 },
 "nbformat": 4,
 "nbformat_minor": 5
}
