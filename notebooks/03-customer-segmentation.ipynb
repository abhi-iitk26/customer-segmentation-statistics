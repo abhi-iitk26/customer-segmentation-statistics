{
 "cells": [
  {
   "cell_type": "markdown",
   "id": "619a2660",
   "metadata": {},
   "source": [
    "Step 2: Load the Feature-Engineered Data\n",
    "\n",
    "In the first cell, we'll load the customer_df we created and saved in the last step."
   ]
  },
  {
   "cell_type": "code",
   "execution_count": 1,
   "id": "02855e7e",
   "metadata": {},
   "outputs": [
    {
     "data": {
      "text/html": [
       "<div>\n",
       "<style scoped>\n",
       "    .dataframe tbody tr th:only-of-type {\n",
       "        vertical-align: middle;\n",
       "    }\n",
       "\n",
       "    .dataframe tbody tr th {\n",
       "        vertical-align: top;\n",
       "    }\n",
       "\n",
       "    .dataframe thead th {\n",
       "        text-align: right;\n",
       "    }\n",
       "</style>\n",
       "<table border=\"1\" class=\"dataframe\">\n",
       "  <thead>\n",
       "    <tr style=\"text-align: right;\">\n",
       "      <th></th>\n",
       "      <th>Unnamed: 0</th>\n",
       "      <th>recency</th>\n",
       "      <th>frequency</th>\n",
       "      <th>monetary</th>\n",
       "      <th>avg_order_value</th>\n",
       "      <th>product_diversity</th>\n",
       "      <th>tenure</th>\n",
       "    </tr>\n",
       "    <tr>\n",
       "      <th>customer_unique_id</th>\n",
       "      <th></th>\n",
       "      <th></th>\n",
       "      <th></th>\n",
       "      <th></th>\n",
       "      <th></th>\n",
       "      <th></th>\n",
       "      <th></th>\n",
       "    </tr>\n",
       "  </thead>\n",
       "  <tbody>\n",
       "    <tr>\n",
       "      <th>0000366f3b9a7992bf8c76cfdf3221e2</th>\n",
       "      <td>0</td>\n",
       "      <td>112</td>\n",
       "      <td>1</td>\n",
       "      <td>141.90</td>\n",
       "      <td>141.90</td>\n",
       "      <td>1</td>\n",
       "      <td>0</td>\n",
       "    </tr>\n",
       "    <tr>\n",
       "      <th>0000b849f77a49e4a4ce2b2a4ca5be3f</th>\n",
       "      <td>1</td>\n",
       "      <td>115</td>\n",
       "      <td>1</td>\n",
       "      <td>27.19</td>\n",
       "      <td>27.19</td>\n",
       "      <td>1</td>\n",
       "      <td>0</td>\n",
       "    </tr>\n",
       "    <tr>\n",
       "      <th>0000f46a3911fa3c0805444483337064</th>\n",
       "      <td>2</td>\n",
       "      <td>537</td>\n",
       "      <td>1</td>\n",
       "      <td>86.22</td>\n",
       "      <td>86.22</td>\n",
       "      <td>1</td>\n",
       "      <td>0</td>\n",
       "    </tr>\n",
       "    <tr>\n",
       "      <th>0000f6ccb0745a6a4b88665a16c9f078</th>\n",
       "      <td>3</td>\n",
       "      <td>321</td>\n",
       "      <td>1</td>\n",
       "      <td>43.62</td>\n",
       "      <td>43.62</td>\n",
       "      <td>1</td>\n",
       "      <td>0</td>\n",
       "    </tr>\n",
       "    <tr>\n",
       "      <th>0004aac84e0df4da2b147fca70cf8255</th>\n",
       "      <td>4</td>\n",
       "      <td>288</td>\n",
       "      <td>1</td>\n",
       "      <td>196.89</td>\n",
       "      <td>196.89</td>\n",
       "      <td>1</td>\n",
       "      <td>0</td>\n",
       "    </tr>\n",
       "  </tbody>\n",
       "</table>\n",
       "</div>"
      ],
      "text/plain": [
       "                                  Unnamed: 0  recency  frequency  monetary  \\\n",
       "customer_unique_id                                                           \n",
       "0000366f3b9a7992bf8c76cfdf3221e2           0      112          1    141.90   \n",
       "0000b849f77a49e4a4ce2b2a4ca5be3f           1      115          1     27.19   \n",
       "0000f46a3911fa3c0805444483337064           2      537          1     86.22   \n",
       "0000f6ccb0745a6a4b88665a16c9f078           3      321          1     43.62   \n",
       "0004aac84e0df4da2b147fca70cf8255           4      288          1    196.89   \n",
       "\n",
       "                                  avg_order_value  product_diversity  tenure  \n",
       "customer_unique_id                                                            \n",
       "0000366f3b9a7992bf8c76cfdf3221e2           141.90                  1       0  \n",
       "0000b849f77a49e4a4ce2b2a4ca5be3f            27.19                  1       0  \n",
       "0000f46a3911fa3c0805444483337064            86.22                  1       0  \n",
       "0000f6ccb0745a6a4b88665a16c9f078            43.62                  1       0  \n",
       "0004aac84e0df4da2b147fca70cf8255           196.89                  1       0  "
      ]
     },
     "execution_count": 1,
     "metadata": {},
     "output_type": "execute_result"
    }
   ],
   "source": [
    "# Import libraries\n",
    "import pandas as pd\n",
    "import numpy as np\n",
    "import matplotlib.pyplot as plt\n",
    "import seaborn as sns\n",
    "\n",
    "from sklearn.preprocessing import StandardScaler\n",
    "from sklearn.cluster import KMeans\n",
    "from sklearn.metrics import silhouette_score\n",
    "\n",
    "# Load the customer features dataset\n",
    "customer_df = pd.read_csv('../data/customer_features.csv')\n",
    "\n",
    "# Set 'customer_unique_id' as the index\n",
    "customer_df.set_index('customer_unique_id', inplace=True)\n",
    "\n",
    "# Display the data to make sure it's loaded correctly\n",
    "customer_df.head()"
   ]
  },
  {
   "cell_type": "markdown",
   "id": "9a9240d3",
   "metadata": {},
   "source": [
    "Step 3: Prepare the Data for Clustering\n",
    "\n",
    "K-Means is sensitive to the scale of features. A feature with a large range (like monetary) will dominate the clustering process if not scaled.\n",
    "Select Features for Clustering: We will use all the behavioral features we engineered.\n",
    "Scale the Features: We'll use StandardScaler to transform our data so that it has a mean of 0 and a standard deviation of 1."
   ]
  },
  {
   "cell_type": "code",
   "execution_count": 2,
   "id": "b5952016",
   "metadata": {},
   "outputs": [
    {
     "name": "stdout",
     "output_type": "stream",
     "text": [
      "Scaled Features Head:\n"
     ]
    },
    {
     "data": {
      "text/html": [
       "<div>\n",
       "<style scoped>\n",
       "    .dataframe tbody tr th:only-of-type {\n",
       "        vertical-align: middle;\n",
       "    }\n",
       "\n",
       "    .dataframe tbody tr th {\n",
       "        vertical-align: top;\n",
       "    }\n",
       "\n",
       "    .dataframe thead th {\n",
       "        text-align: right;\n",
       "    }\n",
       "</style>\n",
       "<table border=\"1\" class=\"dataframe\">\n",
       "  <thead>\n",
       "    <tr style=\"text-align: right;\">\n",
       "      <th></th>\n",
       "      <th>recency</th>\n",
       "      <th>frequency</th>\n",
       "      <th>monetary</th>\n",
       "      <th>avg_order_value</th>\n",
       "      <th>product_diversity</th>\n",
       "      <th>tenure</th>\n",
       "    </tr>\n",
       "    <tr>\n",
       "      <th>customer_unique_id</th>\n",
       "      <th></th>\n",
       "      <th></th>\n",
       "      <th></th>\n",
       "      <th></th>\n",
       "      <th></th>\n",
       "      <th></th>\n",
       "    </tr>\n",
       "  </thead>\n",
       "  <tbody>\n",
       "    <tr>\n",
       "      <th>0000366f3b9a7992bf8c76cfdf3221e2</th>\n",
       "      <td>-0.825362</td>\n",
       "      <td>-0.15983</td>\n",
       "      <td>-0.108903</td>\n",
       "      <td>-0.084424</td>\n",
       "      <td>-0.151729</td>\n",
       "      <td>-0.105549</td>\n",
       "    </tr>\n",
       "    <tr>\n",
       "      <th>0000b849f77a49e4a4ce2b2a4ca5be3f</th>\n",
       "      <td>-0.805701</td>\n",
       "      <td>-0.15983</td>\n",
       "      <td>-0.287534</td>\n",
       "      <td>-0.606487</td>\n",
       "      <td>-0.151729</td>\n",
       "      <td>-0.105549</td>\n",
       "    </tr>\n",
       "    <tr>\n",
       "      <th>0000f46a3911fa3c0805444483337064</th>\n",
       "      <td>1.959998</td>\n",
       "      <td>-0.15983</td>\n",
       "      <td>-0.195610</td>\n",
       "      <td>-0.337832</td>\n",
       "      <td>-0.151729</td>\n",
       "      <td>-0.105549</td>\n",
       "    </tr>\n",
       "    <tr>\n",
       "      <th>0000f6ccb0745a6a4b88665a16c9f078</th>\n",
       "      <td>0.544379</td>\n",
       "      <td>-0.15983</td>\n",
       "      <td>-0.261949</td>\n",
       "      <td>-0.531711</td>\n",
       "      <td>-0.151729</td>\n",
       "      <td>-0.105549</td>\n",
       "    </tr>\n",
       "    <tr>\n",
       "      <th>0004aac84e0df4da2b147fca70cf8255</th>\n",
       "      <td>0.328104</td>\n",
       "      <td>-0.15983</td>\n",
       "      <td>-0.023271</td>\n",
       "      <td>0.165844</td>\n",
       "      <td>-0.151729</td>\n",
       "      <td>-0.105549</td>\n",
       "    </tr>\n",
       "  </tbody>\n",
       "</table>\n",
       "</div>"
      ],
      "text/plain": [
       "                                   recency  frequency  monetary  \\\n",
       "customer_unique_id                                                \n",
       "0000366f3b9a7992bf8c76cfdf3221e2 -0.825362   -0.15983 -0.108903   \n",
       "0000b849f77a49e4a4ce2b2a4ca5be3f -0.805701   -0.15983 -0.287534   \n",
       "0000f46a3911fa3c0805444483337064  1.959998   -0.15983 -0.195610   \n",
       "0000f6ccb0745a6a4b88665a16c9f078  0.544379   -0.15983 -0.261949   \n",
       "0004aac84e0df4da2b147fca70cf8255  0.328104   -0.15983 -0.023271   \n",
       "\n",
       "                                  avg_order_value  product_diversity    tenure  \n",
       "customer_unique_id                                                              \n",
       "0000366f3b9a7992bf8c76cfdf3221e2        -0.084424          -0.151729 -0.105549  \n",
       "0000b849f77a49e4a4ce2b2a4ca5be3f        -0.606487          -0.151729 -0.105549  \n",
       "0000f46a3911fa3c0805444483337064        -0.337832          -0.151729 -0.105549  \n",
       "0000f6ccb0745a6a4b88665a16c9f078        -0.531711          -0.151729 -0.105549  \n",
       "0004aac84e0df4da2b147fca70cf8255         0.165844          -0.151729 -0.105549  "
      ]
     },
     "execution_count": 2,
     "metadata": {},
     "output_type": "execute_result"
    }
   ],
   "source": [
    "# --- Prepare Data for Clustering ---\n",
    "\n",
    "# Select the features we'll use for clustering\n",
    "# These are all our engineered behavioral metrics\n",
    "features_for_clustering = ['recency', 'frequency', 'monetary', 'avg_order_value', 'product_diversity', 'tenure']\n",
    "X = customer_df[features_for_clustering]\n",
    "\n",
    "# Initialize the StandardScaler\n",
    "scaler = StandardScaler()\n",
    "\n",
    "# Fit and transform the data\n",
    "X_scaled = scaler.fit_transform(X)\n",
    "\n",
    "# The output X_scaled is a NumPy array. Let's convert it back to a DataFrame for inspection.\n",
    "X_scaled_df = pd.DataFrame(X_scaled, columns=features_for_clustering, index=customer_df.index)\n",
    "\n",
    "print(\"Scaled Features Head:\")\n",
    "X_scaled_df.head()"
   ]
  },
  {
   "cell_type": "markdown",
   "id": "3f8318d6",
   "metadata": {},
   "source": [
    "Critical Thinking: Look at the scaled data. Notice how all columns now have values roughly between -3 and 3. This \"levels the playing field\" for all features."
   ]
  },
  {
   "cell_type": "markdown",
   "id": "39c54819",
   "metadata": {},
   "source": [
    "Step 4: Determine the Optimal Number of Clusters (k)\n",
    "\n",
    "We don't know how many segments our customers naturally fall into. We must use data-driven methods to find the best k. We will use two methods: The Elbow Method and the Silhouette Score."
   ]
  },
  {
   "cell_type": "code",
   "execution_count": 3,
   "id": "bd8fca49",
   "metadata": {},
   "outputs": [
    {
     "data": {
      "image/png": "[encoded data removed]",
      "text/plain": [
       "<Figure size 1000x600 with 1 Axes>"
      ]
     },
     "metadata": {},
     "output_type": "display_data"
    },
    {
     "name": "stdout",
     "output_type": "stream",
     "text": [
      "Silhouette Score for k = 2: 0.338\n",
      "Silhouette Score for k = 3: 0.400\n",
      "Silhouette Score for k = 4: 0.430\n",
      "Silhouette Score for k = 5: 0.441\n",
      "Silhouette Score for k = 6: 0.364\n"
     ]
    },
    {
     "ename": "KeyboardInterrupt",
     "evalue": "",
     "output_type": "error",
     "traceback": [
      "\u001b[1;31m---------------------------------------------------------------------------\u001b[0m",
      "\u001b[1;31mKeyboardInterrupt\u001b[0m                         Traceback (most recent call last)",
      "Cell \u001b[1;32mIn[3], line 28\u001b[0m\n\u001b[0;32m     26\u001b[0m kmeans \u001b[38;5;241m=\u001b[39m KMeans(n_clusters\u001b[38;5;241m=\u001b[39mk, random_state\u001b[38;5;241m=\u001b[39m\u001b[38;5;241m42\u001b[39m, n_init\u001b[38;5;241m=\u001b[39m\u001b[38;5;124m'\u001b[39m\u001b[38;5;124mauto\u001b[39m\u001b[38;5;124m'\u001b[39m)\n\u001b[0;32m     27\u001b[0m kmeans\u001b[38;5;241m.\u001b[39mfit(X_scaled)\n\u001b[1;32m---> 28\u001b[0m score \u001b[38;5;241m=\u001b[39m \u001b[43msilhouette_score\u001b[49m\u001b[43m(\u001b[49m\u001b[43mX_scaled\u001b[49m\u001b[43m,\u001b[49m\u001b[43m \u001b[49m\u001b[43mkmeans\u001b[49m\u001b[38;5;241;43m.\u001b[39;49m\u001b[43mlabels_\u001b[49m\u001b[43m)\u001b[49m\n\u001b[0;32m     29\u001b[0m silhouette_scores\u001b[38;5;241m.\u001b[39mappend(score)\n\u001b[0;32m     30\u001b[0m \u001b[38;5;28mprint\u001b[39m(\u001b[38;5;124mf\u001b[39m\u001b[38;5;124m\"\u001b[39m\u001b[38;5;124mSilhouette Score for k = \u001b[39m\u001b[38;5;132;01m{\u001b[39;00mk\u001b[38;5;132;01m}\u001b[39;00m\u001b[38;5;124m: \u001b[39m\u001b[38;5;132;01m{\u001b[39;00mscore\u001b[38;5;132;01m:\u001b[39;00m\u001b[38;5;124m.3f\u001b[39m\u001b[38;5;132;01m}\u001b[39;00m\u001b[38;5;124m\"\u001b[39m)\n",
      "File \u001b[1;32mc:\\Users\\abhis\\customer-segmentation-statistics\\venv\\lib\\site-packages\\sklearn\\utils\\_param_validation.py:218\u001b[0m, in \u001b[0;36mvalidate_params.<locals>.decorator.<locals>.wrapper\u001b[1;34m(*args, **kwargs)\u001b[0m\n\u001b[0;32m    212\u001b[0m \u001b[38;5;28;01mtry\u001b[39;00m:\n\u001b[0;32m    213\u001b[0m     \u001b[38;5;28;01mwith\u001b[39;00m config_context(\n\u001b[0;32m    214\u001b[0m         skip_parameter_validation\u001b[38;5;241m=\u001b[39m(\n\u001b[0;32m    215\u001b[0m             prefer_skip_nested_validation \u001b[38;5;129;01mor\u001b[39;00m global_skip_validation\n\u001b[0;32m    216\u001b[0m         )\n\u001b[0;32m    217\u001b[0m     ):\n\u001b[1;32m--> 218\u001b[0m         \u001b[38;5;28;01mreturn\u001b[39;00m func(\u001b[38;5;241m*\u001b[39margs, \u001b[38;5;241m*\u001b[39m\u001b[38;5;241m*\u001b[39mkwargs)\n\u001b[0;32m    219\u001b[0m \u001b[38;5;28;01mexcept\u001b[39;00m InvalidParameterError \u001b[38;5;28;01mas\u001b[39;00m e:\n\u001b[0;32m    220\u001b[0m     \u001b[38;5;66;03m# When the function is just a wrapper around an estimator, we allow\u001b[39;00m\n\u001b[0;32m    221\u001b[0m     \u001b[38;5;66;03m# the function to delegate validation to the estimator, but we replace\u001b[39;00m\n\u001b[0;32m    222\u001b[0m     \u001b[38;5;66;03m# the name of the estimator by the name of the function in the error\u001b[39;00m\n\u001b[0;32m    223\u001b[0m     \u001b[38;5;66;03m# message to avoid confusion.\u001b[39;00m\n\u001b[0;32m    224\u001b[0m     msg \u001b[38;5;241m=\u001b[39m re\u001b[38;5;241m.\u001b[39msub(\n\u001b[0;32m    225\u001b[0m         \u001b[38;5;124mr\u001b[39m\u001b[38;5;124m\"\u001b[39m\u001b[38;5;124mparameter of \u001b[39m\u001b[38;5;124m\\\u001b[39m\u001b[38;5;124mw+ must be\u001b[39m\u001b[38;5;124m\"\u001b[39m,\n\u001b[0;32m    226\u001b[0m         \u001b[38;5;124mf\u001b[39m\u001b[38;5;124m\"\u001b[39m\u001b[38;5;124mparameter of \u001b[39m\u001b[38;5;132;01m{\u001b[39;00mfunc\u001b[38;5;241m.\u001b[39m\u001b[38;5;18m__qualname__\u001b[39m\u001b[38;5;132;01m}\u001b[39;00m\u001b[38;5;124m must be\u001b[39m\u001b[38;5;124m\"\u001b[39m,\n\u001b[0;32m    227\u001b[0m         \u001b[38;5;28mstr\u001b[39m(e),\n\u001b[0;32m    228\u001b[0m     )\n",
      "File \u001b[1;32mc:\\Users\\abhis\\customer-segmentation-statistics\\venv\\lib\\site-packages\\sklearn\\metrics\\cluster\\_unsupervised.py:138\u001b[0m, in \u001b[0;36msilhouette_score\u001b[1;34m(X, labels, metric, sample_size, random_state, **kwds)\u001b[0m\n\u001b[0;32m    136\u001b[0m     \u001b[38;5;28;01melse\u001b[39;00m:\n\u001b[0;32m    137\u001b[0m         X, labels \u001b[38;5;241m=\u001b[39m X[indices], labels[indices]\n\u001b[1;32m--> 138\u001b[0m \u001b[38;5;28;01mreturn\u001b[39;00m \u001b[38;5;28mfloat\u001b[39m(np\u001b[38;5;241m.\u001b[39mmean(silhouette_samples(X, labels, metric\u001b[38;5;241m=\u001b[39mmetric, \u001b[38;5;241m*\u001b[39m\u001b[38;5;241m*\u001b[39mkwds)))\n",
      "File \u001b[1;32mc:\\Users\\abhis\\customer-segmentation-statistics\\venv\\lib\\site-packages\\sklearn\\utils\\_param_validation.py:191\u001b[0m, in \u001b[0;36mvalidate_params.<locals>.decorator.<locals>.wrapper\u001b[1;34m(*args, **kwargs)\u001b[0m\n\u001b[0;32m    189\u001b[0m global_skip_validation \u001b[38;5;241m=\u001b[39m get_config()[\u001b[38;5;124m\"\u001b[39m\u001b[38;5;124mskip_parameter_validation\u001b[39m\u001b[38;5;124m\"\u001b[39m]\n\u001b[0;32m    190\u001b[0m \u001b[38;5;28;01mif\u001b[39;00m global_skip_validation:\n\u001b[1;32m--> 191\u001b[0m     \u001b[38;5;28;01mreturn\u001b[39;00m func(\u001b[38;5;241m*\u001b[39margs, \u001b[38;5;241m*\u001b[39m\u001b[38;5;241m*\u001b[39mkwargs)\n\u001b[0;32m    193\u001b[0m func_sig \u001b[38;5;241m=\u001b[39m signature(func)\n\u001b[0;32m    195\u001b[0m \u001b[38;5;66;03m# Map *args/**kwargs to the function signature\u001b[39;00m\n",
      "File \u001b[1;32mc:\\Users\\abhis\\customer-segmentation-statistics\\venv\\lib\\site-packages\\sklearn\\metrics\\cluster\\_unsupervised.py:302\u001b[0m, in \u001b[0;36msilhouette_samples\u001b[1;34m(X, labels, metric, **kwds)\u001b[0m\n\u001b[0;32m    298\u001b[0m kwds[\u001b[38;5;124m\"\u001b[39m\u001b[38;5;124mmetric\u001b[39m\u001b[38;5;124m\"\u001b[39m] \u001b[38;5;241m=\u001b[39m metric\n\u001b[0;32m    299\u001b[0m reduce_func \u001b[38;5;241m=\u001b[39m functools\u001b[38;5;241m.\u001b[39mpartial(\n\u001b[0;32m    300\u001b[0m     _silhouette_reduce, labels\u001b[38;5;241m=\u001b[39mlabels, label_freqs\u001b[38;5;241m=\u001b[39mlabel_freqs\n\u001b[0;32m    301\u001b[0m )\n\u001b[1;32m--> 302\u001b[0m results \u001b[38;5;241m=\u001b[39m \u001b[38;5;28;43mzip\u001b[39;49m\u001b[43m(\u001b[49m\u001b[38;5;241;43m*\u001b[39;49m\u001b[43mpairwise_distances_chunked\u001b[49m\u001b[43m(\u001b[49m\u001b[43mX\u001b[49m\u001b[43m,\u001b[49m\u001b[43m \u001b[49m\u001b[43mreduce_func\u001b[49m\u001b[38;5;241;43m=\u001b[39;49m\u001b[43mreduce_func\u001b[49m\u001b[43m,\u001b[49m\u001b[43m \u001b[49m\u001b[38;5;241;43m*\u001b[39;49m\u001b[38;5;241;43m*\u001b[39;49m\u001b[43mkwds\u001b[49m\u001b[43m)\u001b[49m\u001b[43m)\u001b[49m\n\u001b[0;32m    303\u001b[0m intra_clust_dists, inter_clust_dists \u001b[38;5;241m=\u001b[39m results\n\u001b[0;32m    304\u001b[0m intra_clust_dists \u001b[38;5;241m=\u001b[39m np\u001b[38;5;241m.\u001b[39mconcatenate(intra_clust_dists)\n",
      "File \u001b[1;32mc:\\Users\\abhis\\customer-segmentation-statistics\\venv\\lib\\site-packages\\sklearn\\metrics\\pairwise.py:2249\u001b[0m, in \u001b[0;36mpairwise_distances_chunked\u001b[1;34m(X, Y, reduce_func, metric, n_jobs, working_memory, **kwds)\u001b[0m\n\u001b[0;32m   2247\u001b[0m \u001b[38;5;28;01mif\u001b[39;00m reduce_func \u001b[38;5;129;01mis\u001b[39;00m \u001b[38;5;129;01mnot\u001b[39;00m \u001b[38;5;28;01mNone\u001b[39;00m:\n\u001b[0;32m   2248\u001b[0m     chunk_size \u001b[38;5;241m=\u001b[39m D_chunk\u001b[38;5;241m.\u001b[39mshape[\u001b[38;5;241m0\u001b[39m]\n\u001b[1;32m-> 2249\u001b[0m     D_chunk \u001b[38;5;241m=\u001b[39m \u001b[43mreduce_func\u001b[49m\u001b[43m(\u001b[49m\u001b[43mD_chunk\u001b[49m\u001b[43m,\u001b[49m\u001b[43m \u001b[49m\u001b[43msl\u001b[49m\u001b[38;5;241;43m.\u001b[39;49m\u001b[43mstart\u001b[49m\u001b[43m)\u001b[49m\n\u001b[0;32m   2250\u001b[0m     _check_chunk_size(D_chunk, chunk_size)\n\u001b[0;32m   2251\u001b[0m \u001b[38;5;28;01myield\u001b[39;00m D_chunk\n",
      "File \u001b[1;32mc:\\Users\\abhis\\customer-segmentation-statistics\\venv\\lib\\site-packages\\sklearn\\metrics\\cluster\\_unsupervised.py:179\u001b[0m, in \u001b[0;36m_silhouette_reduce\u001b[1;34m(D_chunk, start, labels, label_freqs)\u001b[0m\n\u001b[0;32m    177\u001b[0m         sample_weights \u001b[38;5;241m=\u001b[39m D_chunk[i]\n\u001b[0;32m    178\u001b[0m         sample_labels \u001b[38;5;241m=\u001b[39m labels\n\u001b[1;32m--> 179\u001b[0m         cluster_distances[i] \u001b[38;5;241m+\u001b[39m\u001b[38;5;241m=\u001b[39m \u001b[43mnp\u001b[49m\u001b[38;5;241;43m.\u001b[39;49m\u001b[43mbincount\u001b[49m\u001b[43m(\u001b[49m\n\u001b[0;32m    180\u001b[0m \u001b[43m            \u001b[49m\u001b[43msample_labels\u001b[49m\u001b[43m,\u001b[49m\u001b[43m \u001b[49m\u001b[43mweights\u001b[49m\u001b[38;5;241;43m=\u001b[39;49m\u001b[43msample_weights\u001b[49m\u001b[43m,\u001b[49m\u001b[43m \u001b[49m\u001b[43mminlength\u001b[49m\u001b[38;5;241;43m=\u001b[39;49m\u001b[38;5;28;43mlen\u001b[39;49m\u001b[43m(\u001b[49m\u001b[43mlabel_freqs\u001b[49m\u001b[43m)\u001b[49m\n\u001b[0;32m    181\u001b[0m \u001b[43m        \u001b[49m\u001b[43m)\u001b[49m\n\u001b[0;32m    183\u001b[0m \u001b[38;5;66;03m# intra_index selects intra-cluster distances within cluster_distances\u001b[39;00m\n\u001b[0;32m    184\u001b[0m end \u001b[38;5;241m=\u001b[39m start \u001b[38;5;241m+\u001b[39m n_chunk_samples\n",
      "\u001b[1;31mKeyboardInterrupt\u001b[0m: "
     ]
    }
   ],
   "source": [
    "# --- Find the Optimal Number of Clusters (k) ---\n",
    "\n",
    "# Method 1: The Elbow Method\n",
    "inertia = []\n",
    "k_range = range(2, 11) # We'll test k from 2 to 10\n",
    "\n",
    "for k in k_range:\n",
    "    kmeans = KMeans(n_clusters=k, random_state=42, n_init='auto')\n",
    "    kmeans.fit(X_scaled)\n",
    "    inertia.append(kmeans.inertia_)\n",
    "\n",
    "# Plot the Elbow Curve\n",
    "plt.figure(figsize=(10, 6))\n",
    "plt.plot(k_range, inertia, marker='o', linestyle='--')\n",
    "plt.title('Elbow Method for Optimal k')\n",
    "plt.xlabel('Number of Clusters (k)')\n",
    "plt.ylabel('Inertia (Within-cluster sum of squares)')\n",
    "plt.xticks(k_range)\n",
    "plt.grid(True)\n",
    "plt.show()\n",
    "\n",
    "# Method 2: Silhouette Score\n",
    "silhouette_scores = []\n",
    "\n",
    "for k in k_range:\n",
    "    kmeans = KMeans(n_clusters=k, random_state=42, n_init='auto')\n",
    "    kmeans.fit(X_scaled)\n",
    "    score = silhouette_score(X_scaled, kmeans.labels_)\n",
    "    silhouette_scores.append(score)\n",
    "    print(f\"Silhouette Score for k = {k}: {score:.3f}\")\n",
    "\n",
    "# Plot the Silhouette Scores\n",
    "plt.figure(figsize=(10, 6))\n",
    "plt.plot(k_range, silhouette_scores, marker='o', linestyle='--')\n",
    "plt.title('Silhouette Scores for Optimal k')\n",
    "plt.xlabel('Number of Clusters (k)')\n",
    "plt.ylabel('Silhouette Score')\n",
    "plt.xticks(k_range)\n",
    "plt.grid(True)\n",
    "plt.show()"
   ]
  },
  {
   "cell_type": "markdown",
   "id": "72acab28",
   "metadata": {},
   "source": [
    "Interpreting the Results:\n",
    "\n",
    "Elbow Method: Look for the \"elbow\" in the plot – the point where the rate of decrease in inertia sharply slows down. This suggests a good trade-off between the number of clusters and the variance within each cluster.\n",
    "Silhouette Score: A higher score is better. The score measures how similar an object is to its own cluster compared to other clusters.\n",
    "\n",
    "Based on these two plots, you will make a judgment call. For this dataset, k=4 is often a good choice. It usually provides a clear elbow and a relatively high silhouette score."
   ]
  },
  {
   "cell_type": "markdown",
   "id": "173987a7",
   "metadata": {},
   "source": [
    "Step 5: Run the Final K-Means Model and Assign Segments\n",
    "\n",
    "Now that we have chosen our optimal k, we run the model one last time and add the cluster labels back to our original customer_df."
   ]
  },
  {
   "cell_type": "code",
   "execution_count": 6,
   "id": "5dd0cb27",
   "metadata": {},
   "outputs": [
    {
     "name": "stdout",
     "output_type": "stream",
     "text": [
      "Customer DataFrame with Cluster Labels:\n",
      "\n",
      "Cluster Sizes:\n",
      "cluster\n",
      "1    51144\n",
      "0    37753\n",
      "3     2039\n",
      "4     1694\n",
      "2      727\n",
      "Name: count, dtype: int64\n"
     ]
    }
   ],
   "source": [
    "# --- Run Final K-Means and Assign Labels ---\n",
    "\n",
    "# Set the optimal k based on your analysis from the previous step\n",
    "optimal_k = 5\n",
    "\n",
    "# Initialize and fit the final K-Means model\n",
    "kmeans_final = KMeans(n_clusters=optimal_k, random_state=42, n_init='auto')\n",
    "kmeans_final.fit(X_scaled)\n",
    "\n",
    "# Add the cluster labels to our original (unscaled) customer dataframe\n",
    "customer_df['cluster'] = kmeans_final.labels_\n",
    "\n",
    "print(\"Customer DataFrame with Cluster Labels:\")\n",
    "customer_df.head()\n",
    "\n",
    "# Let's check the size of each cluster\n",
    "print(\"\\nCluster Sizes:\")\n",
    "print(customer_df['cluster'].value_counts())"
   ]
  },
  {
   "cell_type": "markdown",
   "id": "56b3621b",
   "metadata": {},
   "source": [
    "You are correct that k=5 gives the highest Silhouette Score (0.441). This is a very strong, data-driven argument for choosing 5 segments.\n",
    "\n",
    "While k=4 is a common result for this dataset, these scores can vary slightly based on the exact features you engineer and how you handle the data. Your result of k=5 being the best is perfectly valid and, in fact, shows that you are correctly interpreting the model selection metrics.\n",
    "\n",
    "The Trade-off: Statistical Significance vs. Business Interpretability\n",
    "Now, let's add another layer of critical thinking that will impress an interviewer. The \"best\" k isn't always just the one with the highest score. It's a balance between:\n",
    "\n",
    "Statistical Separation (what the Silhouette Score tells us): A higher score means the clusters are more dense and better separated. Your data indicates this happens at k=5.\n",
    "\n",
    "Business Interpretability: Can we easily create a distinct, meaningful \"persona\" for each of the 5 segments? Or do two of the segments end up looking very similar, making them hard to explain to a marketing manager?\n",
    "\n",
    "Decision:\n",
    "\n",
    "For this project, let's proceed with k=5.\n",
    "\n",
    "Why?\n",
    "\n",
    "Data-Driven: Your primary evidence (the Silhouette Score) points strongly to k=5. Always trust the data first.\n",
    "Rigor: It shows you are following the process correctly and not just using a \"common\" answer.\n",
    "Challenge: It makes the next step—profiling and validation—even more interesting. We will need to look closely at the 5 segments to see if we can give each one a unique, understandable business identity. If we find that two of the five segments are very similar, we can mention that in our final report (\"While k=5 was statistically optimal, for marketing purposes, we could consider merging segments 2 and 4 as they represent similar 'value-conscious' customers\"). This kind of nuanced thinking is a huge plus.\n",
    "So, fantastic work. We will set optimal_k = 5 and move forward."
   ]
  },
  {
   "cell_type": "markdown",
   "id": "2de81ac1",
   "metadata": {},
   "source": [
    "Save this enriched DataFrame!"
   ]
  },
  {
   "cell_type": "code",
   "execution_count": 7,
   "id": "796064f5",
   "metadata": {},
   "outputs": [],
   "source": [
    "# At the end of your notebook, save the result again\n",
    "customer_df.to_csv('../data/customer_features_clustered.csv')"
   ]
  }
 ],
 "metadata": {
  "kernelspec": {
   "display_name": "venv",
   "language": "python",
   "name": "python3"
  },
  "language_info": {
   "codemirror_mode": {
    "name": "ipython",
    "version": 3
   },
   "file_extension": ".py",
   "mimetype": "text/x-python",
   "name": "python",
   "nbconvert_exporter": "python",
   "pygments_lexer": "ipython3",
   "version": "3.10.11"
  }
 },
 "nbformat": 4,
 "nbformat_minor": 5
}
